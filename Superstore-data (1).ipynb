{
 "cells": [
  {
   "cell_type": "code",
   "execution_count": 162,
   "id": "bac940e3-7308-4e04-ab2d-22e0608046af",
   "metadata": {},
   "outputs": [],
   "source": [
    "import pandas as pd\n",
    "import seaborn as sns\n",
    "import numpy as np\n",
    "import matplotlib.pyplot as plt"
   ]
  },
  {
   "cell_type": "code",
   "execution_count": 29,
   "id": "77af42d8-59ea-4989-b5e1-6c03ea4da22c",
   "metadata": {},
   "outputs": [],
   "source": [
    "df = pd.read_csv(\"C:\\\\Users\\\\hp\\\\Downloads\\\\data\\\\data\\\\Sample - Superstore.csv\")"
   ]
  },
  {
   "cell_type": "code",
   "execution_count": 30,
   "id": "4ee74af2-3a79-444e-b2b0-39a45f0dc6a3",
   "metadata": {},
   "outputs": [
    {
     "data": {
      "text/html": [
       "<div>\n",
       "<style scoped>\n",
       "    .dataframe tbody tr th:only-of-type {\n",
       "        vertical-align: middle;\n",
       "    }\n",
       "\n",
       "    .dataframe tbody tr th {\n",
       "        vertical-align: top;\n",
       "    }\n",
       "\n",
       "    .dataframe thead th {\n",
       "        text-align: right;\n",
       "    }\n",
       "</style>\n",
       "<table border=\"1\" class=\"dataframe\">\n",
       "  <thead>\n",
       "    <tr style=\"text-align: right;\">\n",
       "      <th></th>\n",
       "      <th>Unnamed: 0</th>\n",
       "      <th>Row ID</th>\n",
       "      <th>Order ID</th>\n",
       "      <th>Order Date</th>\n",
       "      <th>Ship Date</th>\n",
       "      <th>Ship Mode</th>\n",
       "      <th>Customer ID</th>\n",
       "      <th>Customer Name</th>\n",
       "      <th>Segment</th>\n",
       "      <th>Country</th>\n",
       "      <th>...</th>\n",
       "      <th>Postal Code</th>\n",
       "      <th>Region</th>\n",
       "      <th>Product ID</th>\n",
       "      <th>Category</th>\n",
       "      <th>Sub-Category</th>\n",
       "      <th>Product Name</th>\n",
       "      <th>Sales</th>\n",
       "      <th>Quantity</th>\n",
       "      <th>Discount</th>\n",
       "      <th>Profit</th>\n",
       "    </tr>\n",
       "  </thead>\n",
       "  <tbody>\n",
       "    <tr>\n",
       "      <th>0</th>\n",
       "      <td>0</td>\n",
       "      <td>1.0</td>\n",
       "      <td>CA-2016-152156</td>\n",
       "      <td>11/8/2016</td>\n",
       "      <td>11/11/2016</td>\n",
       "      <td>NaN</td>\n",
       "      <td>CG-12520</td>\n",
       "      <td>Claire Gute</td>\n",
       "      <td>Consumer</td>\n",
       "      <td>United States</td>\n",
       "      <td>...</td>\n",
       "      <td>42420.0</td>\n",
       "      <td>South</td>\n",
       "      <td>FUR-BO-10001798</td>\n",
       "      <td>Furniture</td>\n",
       "      <td>Bookcases</td>\n",
       "      <td>Bush Somerset Collection Bookcase</td>\n",
       "      <td>NaN</td>\n",
       "      <td>2.0</td>\n",
       "      <td>0.0</td>\n",
       "      <td>41.9136</td>\n",
       "    </tr>\n",
       "    <tr>\n",
       "      <th>1</th>\n",
       "      <td>1</td>\n",
       "      <td>NaN</td>\n",
       "      <td>NaN</td>\n",
       "      <td>11/8/2016</td>\n",
       "      <td>11/11/2016</td>\n",
       "      <td>Second Class</td>\n",
       "      <td>CG-12520</td>\n",
       "      <td>Claire Gute</td>\n",
       "      <td>Consumer</td>\n",
       "      <td>United States</td>\n",
       "      <td>...</td>\n",
       "      <td>42420.0</td>\n",
       "      <td>South</td>\n",
       "      <td>FUR-CH-10000454</td>\n",
       "      <td>Furniture</td>\n",
       "      <td>Chairs</td>\n",
       "      <td>Hon Deluxe Fabric Upholstered Stacking Chairs,...</td>\n",
       "      <td>731.9400</td>\n",
       "      <td>3.0</td>\n",
       "      <td>0.0</td>\n",
       "      <td>219.5820</td>\n",
       "    </tr>\n",
       "    <tr>\n",
       "      <th>2</th>\n",
       "      <td>2</td>\n",
       "      <td>3.0</td>\n",
       "      <td>NaN</td>\n",
       "      <td>6/12/2016</td>\n",
       "      <td>6/16/2016</td>\n",
       "      <td>Second Class</td>\n",
       "      <td>DV-13045</td>\n",
       "      <td>Darrin Van Huff</td>\n",
       "      <td>Corporate</td>\n",
       "      <td>United States</td>\n",
       "      <td>...</td>\n",
       "      <td>90036.0</td>\n",
       "      <td>West</td>\n",
       "      <td>OFF-LA-10000240</td>\n",
       "      <td>Office Supplies</td>\n",
       "      <td>Labels</td>\n",
       "      <td>Self-Adhesive Address Labels for Typewriters b...</td>\n",
       "      <td>14.6200</td>\n",
       "      <td>2.0</td>\n",
       "      <td>0.0</td>\n",
       "      <td>6.8714</td>\n",
       "    </tr>\n",
       "    <tr>\n",
       "      <th>3</th>\n",
       "      <td>3</td>\n",
       "      <td>4.0</td>\n",
       "      <td>US-2015-108966</td>\n",
       "      <td>10/11/2015</td>\n",
       "      <td>10/18/2015</td>\n",
       "      <td>Standard Class</td>\n",
       "      <td>NaN</td>\n",
       "      <td>Sean O'Donnell</td>\n",
       "      <td>Consumer</td>\n",
       "      <td>United States</td>\n",
       "      <td>...</td>\n",
       "      <td>33311.0</td>\n",
       "      <td>South</td>\n",
       "      <td>NaN</td>\n",
       "      <td>Furniture</td>\n",
       "      <td>Tables</td>\n",
       "      <td>Bretford CR4500 Series Slim Rectangular Table</td>\n",
       "      <td>957.5775</td>\n",
       "      <td>5.0</td>\n",
       "      <td>NaN</td>\n",
       "      <td>-383.0310</td>\n",
       "    </tr>\n",
       "    <tr>\n",
       "      <th>4</th>\n",
       "      <td>4</td>\n",
       "      <td>5.0</td>\n",
       "      <td>US-2015-108966</td>\n",
       "      <td>10/11/2015</td>\n",
       "      <td>10/18/2015</td>\n",
       "      <td>Standard Class</td>\n",
       "      <td>SO-20335</td>\n",
       "      <td>NaN</td>\n",
       "      <td>Consumer</td>\n",
       "      <td>United States</td>\n",
       "      <td>...</td>\n",
       "      <td>33311.0</td>\n",
       "      <td>South</td>\n",
       "      <td>OFF-ST-10000760</td>\n",
       "      <td>Office Supplies</td>\n",
       "      <td>Storage</td>\n",
       "      <td>Eldon Fold 'N Roll Cart System</td>\n",
       "      <td>22.3680</td>\n",
       "      <td>2.0</td>\n",
       "      <td>0.2</td>\n",
       "      <td>2.5164</td>\n",
       "    </tr>\n",
       "  </tbody>\n",
       "</table>\n",
       "<p>5 rows × 22 columns</p>\n",
       "</div>"
      ],
      "text/plain": [
       "   Unnamed: 0  Row ID        Order ID  Order Date   Ship Date       Ship Mode  \\\n",
       "0           0     1.0  CA-2016-152156   11/8/2016  11/11/2016             NaN   \n",
       "1           1     NaN             NaN   11/8/2016  11/11/2016    Second Class   \n",
       "2           2     3.0             NaN   6/12/2016   6/16/2016    Second Class   \n",
       "3           3     4.0  US-2015-108966  10/11/2015  10/18/2015  Standard Class   \n",
       "4           4     5.0  US-2015-108966  10/11/2015  10/18/2015  Standard Class   \n",
       "\n",
       "  Customer ID    Customer Name    Segment        Country  ... Postal Code  \\\n",
       "0    CG-12520      Claire Gute   Consumer  United States  ...     42420.0   \n",
       "1    CG-12520      Claire Gute   Consumer  United States  ...     42420.0   \n",
       "2    DV-13045  Darrin Van Huff  Corporate  United States  ...     90036.0   \n",
       "3         NaN   Sean O'Donnell   Consumer  United States  ...     33311.0   \n",
       "4    SO-20335              NaN   Consumer  United States  ...     33311.0   \n",
       "\n",
       "  Region       Product ID         Category Sub-Category  \\\n",
       "0  South  FUR-BO-10001798        Furniture    Bookcases   \n",
       "1  South  FUR-CH-10000454        Furniture       Chairs   \n",
       "2   West  OFF-LA-10000240  Office Supplies       Labels   \n",
       "3  South              NaN        Furniture       Tables   \n",
       "4  South  OFF-ST-10000760  Office Supplies      Storage   \n",
       "\n",
       "                                        Product Name     Sales Quantity  \\\n",
       "0                  Bush Somerset Collection Bookcase       NaN      2.0   \n",
       "1  Hon Deluxe Fabric Upholstered Stacking Chairs,...  731.9400      3.0   \n",
       "2  Self-Adhesive Address Labels for Typewriters b...   14.6200      2.0   \n",
       "3      Bretford CR4500 Series Slim Rectangular Table  957.5775      5.0   \n",
       "4                     Eldon Fold 'N Roll Cart System   22.3680      2.0   \n",
       "\n",
       "   Discount    Profit  \n",
       "0       0.0   41.9136  \n",
       "1       0.0  219.5820  \n",
       "2       0.0    6.8714  \n",
       "3       NaN -383.0310  \n",
       "4       0.2    2.5164  \n",
       "\n",
       "[5 rows x 22 columns]"
      ]
     },
     "execution_count": 30,
     "metadata": {},
     "output_type": "execute_result"
    }
   ],
   "source": [
    "df.head()"
   ]
  },
  {
   "cell_type": "code",
   "execution_count": 31,
   "id": "f88f5e64-12dc-4529-83a5-da0cd0435df7",
   "metadata": {},
   "outputs": [
    {
     "data": {
      "text/html": [
       "<div>\n",
       "<style scoped>\n",
       "    .dataframe tbody tr th:only-of-type {\n",
       "        vertical-align: middle;\n",
       "    }\n",
       "\n",
       "    .dataframe tbody tr th {\n",
       "        vertical-align: top;\n",
       "    }\n",
       "\n",
       "    .dataframe thead th {\n",
       "        text-align: right;\n",
       "    }\n",
       "</style>\n",
       "<table border=\"1\" class=\"dataframe\">\n",
       "  <thead>\n",
       "    <tr style=\"text-align: right;\">\n",
       "      <th></th>\n",
       "      <th>Unnamed: 0</th>\n",
       "      <th>Row ID</th>\n",
       "      <th>Order ID</th>\n",
       "      <th>Order Date</th>\n",
       "      <th>Ship Date</th>\n",
       "      <th>Ship Mode</th>\n",
       "      <th>Customer ID</th>\n",
       "      <th>Customer Name</th>\n",
       "      <th>Segment</th>\n",
       "      <th>Country</th>\n",
       "      <th>...</th>\n",
       "      <th>Postal Code</th>\n",
       "      <th>Region</th>\n",
       "      <th>Product ID</th>\n",
       "      <th>Category</th>\n",
       "      <th>Sub-Category</th>\n",
       "      <th>Product Name</th>\n",
       "      <th>Sales</th>\n",
       "      <th>Quantity</th>\n",
       "      <th>Discount</th>\n",
       "      <th>Profit</th>\n",
       "    </tr>\n",
       "  </thead>\n",
       "  <tbody>\n",
       "    <tr>\n",
       "      <th>9989</th>\n",
       "      <td>9989</td>\n",
       "      <td>9990.0</td>\n",
       "      <td>NaN</td>\n",
       "      <td>1/21/2014</td>\n",
       "      <td>1/23/2014</td>\n",
       "      <td>Second Class</td>\n",
       "      <td>TB-21400</td>\n",
       "      <td>Tom Boeckenhauer</td>\n",
       "      <td>Consumer</td>\n",
       "      <td>United States</td>\n",
       "      <td>...</td>\n",
       "      <td>NaN</td>\n",
       "      <td>South</td>\n",
       "      <td>NaN</td>\n",
       "      <td>Furniture</td>\n",
       "      <td>NaN</td>\n",
       "      <td>NaN</td>\n",
       "      <td>25.248</td>\n",
       "      <td>3.0</td>\n",
       "      <td>NaN</td>\n",
       "      <td>4.1028</td>\n",
       "    </tr>\n",
       "    <tr>\n",
       "      <th>9990</th>\n",
       "      <td>9990</td>\n",
       "      <td>9991.0</td>\n",
       "      <td>CA-2017-121258</td>\n",
       "      <td>2/26/2017</td>\n",
       "      <td>3/3/2017</td>\n",
       "      <td>Standard Class</td>\n",
       "      <td>DB-13060</td>\n",
       "      <td>Dave Brooks</td>\n",
       "      <td>Consumer</td>\n",
       "      <td>United States</td>\n",
       "      <td>...</td>\n",
       "      <td>92627.0</td>\n",
       "      <td>West</td>\n",
       "      <td>FUR-FU-10000747</td>\n",
       "      <td>Furniture</td>\n",
       "      <td>Furnishings</td>\n",
       "      <td>Tenex B1-RE Series Chair Mats for Low Pile Car...</td>\n",
       "      <td>91.960</td>\n",
       "      <td>2.0</td>\n",
       "      <td>0.0</td>\n",
       "      <td>15.6332</td>\n",
       "    </tr>\n",
       "    <tr>\n",
       "      <th>9991</th>\n",
       "      <td>9991</td>\n",
       "      <td>9992.0</td>\n",
       "      <td>CA-2017-121258</td>\n",
       "      <td>2/26/2017</td>\n",
       "      <td>3/3/2017</td>\n",
       "      <td>Standard Class</td>\n",
       "      <td>DB-13060</td>\n",
       "      <td>Dave Brooks</td>\n",
       "      <td>Consumer</td>\n",
       "      <td>United States</td>\n",
       "      <td>...</td>\n",
       "      <td>92627.0</td>\n",
       "      <td>West</td>\n",
       "      <td>TEC-PH-10003645</td>\n",
       "      <td>Technology</td>\n",
       "      <td>Phones</td>\n",
       "      <td>Aastra 57i VoIP phone</td>\n",
       "      <td>258.576</td>\n",
       "      <td>2.0</td>\n",
       "      <td>0.2</td>\n",
       "      <td>19.3932</td>\n",
       "    </tr>\n",
       "    <tr>\n",
       "      <th>9992</th>\n",
       "      <td>9992</td>\n",
       "      <td>NaN</td>\n",
       "      <td>CA-2017-121258</td>\n",
       "      <td>2/26/2017</td>\n",
       "      <td>3/3/2017</td>\n",
       "      <td>Standard Class</td>\n",
       "      <td>DB-13060</td>\n",
       "      <td>Dave Brooks</td>\n",
       "      <td>Consumer</td>\n",
       "      <td>United States</td>\n",
       "      <td>...</td>\n",
       "      <td>92627.0</td>\n",
       "      <td>West</td>\n",
       "      <td>OFF-PA-10004041</td>\n",
       "      <td>Office Supplies</td>\n",
       "      <td>Paper</td>\n",
       "      <td>It's Hot Message Books with Stickers, 2 3/4\" x 5\"</td>\n",
       "      <td>NaN</td>\n",
       "      <td>4.0</td>\n",
       "      <td>0.0</td>\n",
       "      <td>13.3200</td>\n",
       "    </tr>\n",
       "    <tr>\n",
       "      <th>9993</th>\n",
       "      <td>9993</td>\n",
       "      <td>9994.0</td>\n",
       "      <td>CA-2017-119914</td>\n",
       "      <td>5/4/2017</td>\n",
       "      <td>5/9/2017</td>\n",
       "      <td>NaN</td>\n",
       "      <td>CC-12220</td>\n",
       "      <td>Chris Cortes</td>\n",
       "      <td>Consumer</td>\n",
       "      <td>United States</td>\n",
       "      <td>...</td>\n",
       "      <td>92683.0</td>\n",
       "      <td>West</td>\n",
       "      <td>OFF-AP-10002684</td>\n",
       "      <td>Office Supplies</td>\n",
       "      <td>Appliances</td>\n",
       "      <td>Acco 7-Outlet Masterpiece Power Center, Wihtou...</td>\n",
       "      <td>243.160</td>\n",
       "      <td>2.0</td>\n",
       "      <td>0.0</td>\n",
       "      <td>NaN</td>\n",
       "    </tr>\n",
       "  </tbody>\n",
       "</table>\n",
       "<p>5 rows × 22 columns</p>\n",
       "</div>"
      ],
      "text/plain": [
       "      Unnamed: 0  Row ID        Order ID Order Date  Ship Date  \\\n",
       "9989        9989  9990.0             NaN  1/21/2014  1/23/2014   \n",
       "9990        9990  9991.0  CA-2017-121258  2/26/2017   3/3/2017   \n",
       "9991        9991  9992.0  CA-2017-121258  2/26/2017   3/3/2017   \n",
       "9992        9992     NaN  CA-2017-121258  2/26/2017   3/3/2017   \n",
       "9993        9993  9994.0  CA-2017-119914   5/4/2017   5/9/2017   \n",
       "\n",
       "           Ship Mode Customer ID     Customer Name   Segment        Country  \\\n",
       "9989    Second Class    TB-21400  Tom Boeckenhauer  Consumer  United States   \n",
       "9990  Standard Class    DB-13060       Dave Brooks  Consumer  United States   \n",
       "9991  Standard Class    DB-13060       Dave Brooks  Consumer  United States   \n",
       "9992  Standard Class    DB-13060       Dave Brooks  Consumer  United States   \n",
       "9993             NaN    CC-12220      Chris Cortes  Consumer  United States   \n",
       "\n",
       "      ... Postal Code Region       Product ID         Category Sub-Category  \\\n",
       "9989  ...         NaN  South              NaN        Furniture          NaN   \n",
       "9990  ...     92627.0   West  FUR-FU-10000747        Furniture  Furnishings   \n",
       "9991  ...     92627.0   West  TEC-PH-10003645       Technology       Phones   \n",
       "9992  ...     92627.0   West  OFF-PA-10004041  Office Supplies        Paper   \n",
       "9993  ...     92683.0   West  OFF-AP-10002684  Office Supplies   Appliances   \n",
       "\n",
       "                                           Product Name    Sales Quantity  \\\n",
       "9989                                                NaN   25.248      3.0   \n",
       "9990  Tenex B1-RE Series Chair Mats for Low Pile Car...   91.960      2.0   \n",
       "9991                              Aastra 57i VoIP phone  258.576      2.0   \n",
       "9992  It's Hot Message Books with Stickers, 2 3/4\" x 5\"      NaN      4.0   \n",
       "9993  Acco 7-Outlet Masterpiece Power Center, Wihtou...  243.160      2.0   \n",
       "\n",
       "      Discount   Profit  \n",
       "9989       NaN   4.1028  \n",
       "9990       0.0  15.6332  \n",
       "9991       0.2  19.3932  \n",
       "9992       0.0  13.3200  \n",
       "9993       0.0      NaN  \n",
       "\n",
       "[5 rows x 22 columns]"
      ]
     },
     "execution_count": 31,
     "metadata": {},
     "output_type": "execute_result"
    }
   ],
   "source": [
    "df.tail()"
   ]
  },
  {
   "cell_type": "code",
   "execution_count": 33,
   "id": "803fc8ac-2cf4-4772-96fe-e777bf9c1f89",
   "metadata": {},
   "outputs": [
    {
     "data": {
      "text/plain": [
       "(9994, 22)"
      ]
     },
     "execution_count": 33,
     "metadata": {},
     "output_type": "execute_result"
    }
   ],
   "source": [
    "df.shape"
   ]
  },
  {
   "cell_type": "code",
   "execution_count": 35,
   "id": "e6a2bb9f-94ee-443a-a247-37792ea6321d",
   "metadata": {},
   "outputs": [
    {
     "data": {
      "text/plain": [
       "Unnamed: 0         int64\n",
       "Row ID           float64\n",
       "Order ID          object\n",
       "Order Date        object\n",
       "Ship Date         object\n",
       "Ship Mode         object\n",
       "Customer ID       object\n",
       "Customer Name     object\n",
       "Segment           object\n",
       "Country           object\n",
       "City              object\n",
       "State             object\n",
       "Postal Code      float64\n",
       "Region            object\n",
       "Product ID        object\n",
       "Category          object\n",
       "Sub-Category      object\n",
       "Product Name      object\n",
       "Sales            float64\n",
       "Quantity         float64\n",
       "Discount         float64\n",
       "Profit           float64\n",
       "dtype: object"
      ]
     },
     "execution_count": 35,
     "metadata": {},
     "output_type": "execute_result"
    }
   ],
   "source": [
    "df.dtypes"
   ]
  },
  {
   "cell_type": "code",
   "execution_count": 39,
   "id": "fd785d04-41f7-4054-a563-65451e9869af",
   "metadata": {},
   "outputs": [],
   "source": [
    "df = df.drop('Unnamed: 0',axis=1)"
   ]
  },
  {
   "cell_type": "code",
   "execution_count": 42,
   "id": "05023bd0-f13d-4136-a27d-2e808aef3847",
   "metadata": {},
   "outputs": [],
   "source": [
    "df = df.drop('Row ID',axis=1)"
   ]
  },
  {
   "cell_type": "code",
   "execution_count": 156,
   "id": "706d749b-835e-40a0-9ecf-cd83766f8433",
   "metadata": {},
   "outputs": [
    {
     "data": {
      "text/html": [
       "<div>\n",
       "<style scoped>\n",
       "    .dataframe tbody tr th:only-of-type {\n",
       "        vertical-align: middle;\n",
       "    }\n",
       "\n",
       "    .dataframe tbody tr th {\n",
       "        vertical-align: top;\n",
       "    }\n",
       "\n",
       "    .dataframe thead th {\n",
       "        text-align: right;\n",
       "    }\n",
       "</style>\n",
       "<table border=\"1\" class=\"dataframe\">\n",
       "  <thead>\n",
       "    <tr style=\"text-align: right;\">\n",
       "      <th></th>\n",
       "      <th>Order ID</th>\n",
       "      <th>Order Date</th>\n",
       "      <th>Ship Date</th>\n",
       "      <th>Ship Mode</th>\n",
       "      <th>Customer ID</th>\n",
       "      <th>Customer Name</th>\n",
       "      <th>Segment</th>\n",
       "      <th>Country</th>\n",
       "      <th>City</th>\n",
       "      <th>State</th>\n",
       "      <th>Postal Code</th>\n",
       "      <th>Region</th>\n",
       "      <th>Product ID</th>\n",
       "      <th>Category</th>\n",
       "      <th>Sub-Category</th>\n",
       "      <th>Product Name</th>\n",
       "      <th>Sales</th>\n",
       "      <th>Quantity</th>\n",
       "      <th>Discount</th>\n",
       "      <th>Profit</th>\n",
       "    </tr>\n",
       "  </thead>\n",
       "  <tbody>\n",
       "    <tr>\n",
       "      <th>8</th>\n",
       "      <td>CA-2014-115812</td>\n",
       "      <td>6/9/2014</td>\n",
       "      <td>6/14/2014</td>\n",
       "      <td>Standard Class</td>\n",
       "      <td>BH-11710</td>\n",
       "      <td>Brosina Hoffman</td>\n",
       "      <td>Consumer</td>\n",
       "      <td>United States</td>\n",
       "      <td>Los Angeles</td>\n",
       "      <td>California</td>\n",
       "      <td>90032.0</td>\n",
       "      <td>West</td>\n",
       "      <td>OFF-BI-10003910</td>\n",
       "      <td>Office Supplies</td>\n",
       "      <td>Binders</td>\n",
       "      <td>DXL Angle-View Binders with Locking Rings by S...</td>\n",
       "      <td>18.504</td>\n",
       "      <td>3.0</td>\n",
       "      <td>0.2</td>\n",
       "      <td>5.7825</td>\n",
       "    </tr>\n",
       "    <tr>\n",
       "      <th>36</th>\n",
       "      <td>CA-2016-117590</td>\n",
       "      <td>12/8/2016</td>\n",
       "      <td>12/10/2016</td>\n",
       "      <td>First Class</td>\n",
       "      <td>GH-14485</td>\n",
       "      <td>Gene Hale</td>\n",
       "      <td>Corporate</td>\n",
       "      <td>United States</td>\n",
       "      <td>Richardson</td>\n",
       "      <td>Texas</td>\n",
       "      <td>75080.0</td>\n",
       "      <td>Central</td>\n",
       "      <td>FUR-FU-10003664</td>\n",
       "      <td>Furniture</td>\n",
       "      <td>Furnishings</td>\n",
       "      <td>Electrix Architect's Clamp-On Swing Arm Lamp, ...</td>\n",
       "      <td>190.920</td>\n",
       "      <td>5.0</td>\n",
       "      <td>0.6</td>\n",
       "      <td>-147.9630</td>\n",
       "    </tr>\n",
       "    <tr>\n",
       "      <th>37</th>\n",
       "      <td>CA-2015-117415</td>\n",
       "      <td>12/27/2015</td>\n",
       "      <td>12/31/2015</td>\n",
       "      <td>Standard Class</td>\n",
       "      <td>SN-20710</td>\n",
       "      <td>Steve Nguyen</td>\n",
       "      <td>Home Office</td>\n",
       "      <td>United States</td>\n",
       "      <td>Houston</td>\n",
       "      <td>Texas</td>\n",
       "      <td>77041.0</td>\n",
       "      <td>Central</td>\n",
       "      <td>OFF-EN-10002986</td>\n",
       "      <td>Office Supplies</td>\n",
       "      <td>Envelopes</td>\n",
       "      <td>#10-4 1/8\" x 9 1/2\" Premium Diagonal Seam Enve...</td>\n",
       "      <td>113.328</td>\n",
       "      <td>9.0</td>\n",
       "      <td>0.2</td>\n",
       "      <td>35.4150</td>\n",
       "    </tr>\n",
       "    <tr>\n",
       "      <th>44</th>\n",
       "      <td>CA-2016-118255</td>\n",
       "      <td>3/11/2016</td>\n",
       "      <td>3/13/2016</td>\n",
       "      <td>First Class</td>\n",
       "      <td>ON-18715</td>\n",
       "      <td>Odella Nelson</td>\n",
       "      <td>Corporate</td>\n",
       "      <td>United States</td>\n",
       "      <td>Eagan</td>\n",
       "      <td>Minnesota</td>\n",
       "      <td>55122.0</td>\n",
       "      <td>Central</td>\n",
       "      <td>TEC-AC-10000171</td>\n",
       "      <td>Technology</td>\n",
       "      <td>Accessories</td>\n",
       "      <td>Verbatim 25 GB 6x Blu-ray Single Layer Recorda...</td>\n",
       "      <td>45.980</td>\n",
       "      <td>2.0</td>\n",
       "      <td>0.0</td>\n",
       "      <td>19.7714</td>\n",
       "    </tr>\n",
       "    <tr>\n",
       "      <th>46</th>\n",
       "      <td>CA-2014-146703</td>\n",
       "      <td>10/20/2014</td>\n",
       "      <td>10/25/2014</td>\n",
       "      <td>Second Class</td>\n",
       "      <td>PO-18865</td>\n",
       "      <td>Patrick O'Donnell</td>\n",
       "      <td>Consumer</td>\n",
       "      <td>United States</td>\n",
       "      <td>Westland</td>\n",
       "      <td>Michigan</td>\n",
       "      <td>48185.0</td>\n",
       "      <td>Central</td>\n",
       "      <td>OFF-ST-10001713</td>\n",
       "      <td>Office Supplies</td>\n",
       "      <td>Storage</td>\n",
       "      <td>Gould Plastics 9-Pocket Panel Bin, 18-3/8w x 5...</td>\n",
       "      <td>211.960</td>\n",
       "      <td>4.0</td>\n",
       "      <td>0.0</td>\n",
       "      <td>8.4784</td>\n",
       "    </tr>\n",
       "  </tbody>\n",
       "</table>\n",
       "</div>"
      ],
      "text/plain": [
       "          Order ID  Order Date   Ship Date       Ship Mode Customer ID  \\\n",
       "8   CA-2014-115812    6/9/2014   6/14/2014  Standard Class    BH-11710   \n",
       "36  CA-2016-117590   12/8/2016  12/10/2016     First Class    GH-14485   \n",
       "37  CA-2015-117415  12/27/2015  12/31/2015  Standard Class    SN-20710   \n",
       "44  CA-2016-118255   3/11/2016   3/13/2016     First Class    ON-18715   \n",
       "46  CA-2014-146703  10/20/2014  10/25/2014    Second Class    PO-18865   \n",
       "\n",
       "        Customer Name      Segment        Country         City       State  \\\n",
       "8     Brosina Hoffman     Consumer  United States  Los Angeles  California   \n",
       "36          Gene Hale    Corporate  United States   Richardson       Texas   \n",
       "37       Steve Nguyen  Home Office  United States      Houston       Texas   \n",
       "44      Odella Nelson    Corporate  United States        Eagan   Minnesota   \n",
       "46  Patrick O'Donnell     Consumer  United States     Westland    Michigan   \n",
       "\n",
       "    Postal Code   Region       Product ID         Category Sub-Category  \\\n",
       "8       90032.0     West  OFF-BI-10003910  Office Supplies      Binders   \n",
       "36      75080.0  Central  FUR-FU-10003664        Furniture  Furnishings   \n",
       "37      77041.0  Central  OFF-EN-10002986  Office Supplies    Envelopes   \n",
       "44      55122.0  Central  TEC-AC-10000171       Technology  Accessories   \n",
       "46      48185.0  Central  OFF-ST-10001713  Office Supplies      Storage   \n",
       "\n",
       "                                         Product Name    Sales  Quantity  \\\n",
       "8   DXL Angle-View Binders with Locking Rings by S...   18.504       3.0   \n",
       "36  Electrix Architect's Clamp-On Swing Arm Lamp, ...  190.920       5.0   \n",
       "37  #10-4 1/8\" x 9 1/2\" Premium Diagonal Seam Enve...  113.328       9.0   \n",
       "44  Verbatim 25 GB 6x Blu-ray Single Layer Recorda...   45.980       2.0   \n",
       "46  Gould Plastics 9-Pocket Panel Bin, 18-3/8w x 5...  211.960       4.0   \n",
       "\n",
       "    Discount    Profit  \n",
       "8        0.2    5.7825  \n",
       "36       0.6 -147.9630  \n",
       "37       0.2   35.4150  \n",
       "44       0.0   19.7714  \n",
       "46       0.0    8.4784  "
      ]
     },
     "execution_count": 156,
     "metadata": {},
     "output_type": "execute_result"
    }
   ],
   "source": [
    "df.head()"
   ]
  },
  {
   "cell_type": "code",
   "execution_count": 54,
   "id": "7f16f06a-6837-4164-ade2-a2fe6f63eabf",
   "metadata": {},
   "outputs": [],
   "source": [
    "df = df.drop_duplicates()"
   ]
  },
  {
   "cell_type": "code",
   "execution_count": 55,
   "id": "c2cf09cc-d10e-4a5c-a5d5-cdf6cf86d049",
   "metadata": {},
   "outputs": [
    {
     "data": {
      "text/plain": [
       "0"
      ]
     },
     "execution_count": 55,
     "metadata": {},
     "output_type": "execute_result"
    }
   ],
   "source": [
    "len(df[df.duplicated()])"
   ]
  },
  {
   "cell_type": "code",
   "execution_count": 57,
   "id": "1230bbe0-61c2-4bc0-aa4b-da2c12dcb0c6",
   "metadata": {},
   "outputs": [],
   "source": [
    "df = df.dropna()"
   ]
  },
  {
   "cell_type": "code",
   "execution_count": 157,
   "id": "c6601152-a9a8-45e8-b063-9afaf32950d0",
   "metadata": {},
   "outputs": [
    {
     "data": {
      "text/html": [
       "<div>\n",
       "<style scoped>\n",
       "    .dataframe tbody tr th:only-of-type {\n",
       "        vertical-align: middle;\n",
       "    }\n",
       "\n",
       "    .dataframe tbody tr th {\n",
       "        vertical-align: top;\n",
       "    }\n",
       "\n",
       "    .dataframe thead th {\n",
       "        text-align: right;\n",
       "    }\n",
       "</style>\n",
       "<table border=\"1\" class=\"dataframe\">\n",
       "  <thead>\n",
       "    <tr style=\"text-align: right;\">\n",
       "      <th></th>\n",
       "      <th>Order ID</th>\n",
       "      <th>Order Date</th>\n",
       "      <th>Ship Date</th>\n",
       "      <th>Ship Mode</th>\n",
       "      <th>Customer ID</th>\n",
       "      <th>Customer Name</th>\n",
       "      <th>Segment</th>\n",
       "      <th>Country</th>\n",
       "      <th>City</th>\n",
       "      <th>State</th>\n",
       "      <th>Postal Code</th>\n",
       "      <th>Region</th>\n",
       "      <th>Product ID</th>\n",
       "      <th>Category</th>\n",
       "      <th>Sub-Category</th>\n",
       "      <th>Product Name</th>\n",
       "      <th>Sales</th>\n",
       "      <th>Quantity</th>\n",
       "      <th>Discount</th>\n",
       "      <th>Profit</th>\n",
       "    </tr>\n",
       "  </thead>\n",
       "  <tbody>\n",
       "    <tr>\n",
       "      <th>8</th>\n",
       "      <td>CA-2014-115812</td>\n",
       "      <td>6/9/2014</td>\n",
       "      <td>6/14/2014</td>\n",
       "      <td>Standard Class</td>\n",
       "      <td>BH-11710</td>\n",
       "      <td>Brosina Hoffman</td>\n",
       "      <td>Consumer</td>\n",
       "      <td>United States</td>\n",
       "      <td>Los Angeles</td>\n",
       "      <td>California</td>\n",
       "      <td>90032.0</td>\n",
       "      <td>West</td>\n",
       "      <td>OFF-BI-10003910</td>\n",
       "      <td>Office Supplies</td>\n",
       "      <td>Binders</td>\n",
       "      <td>DXL Angle-View Binders with Locking Rings by S...</td>\n",
       "      <td>18.504</td>\n",
       "      <td>3.0</td>\n",
       "      <td>0.2</td>\n",
       "      <td>5.7825</td>\n",
       "    </tr>\n",
       "    <tr>\n",
       "      <th>36</th>\n",
       "      <td>CA-2016-117590</td>\n",
       "      <td>12/8/2016</td>\n",
       "      <td>12/10/2016</td>\n",
       "      <td>First Class</td>\n",
       "      <td>GH-14485</td>\n",
       "      <td>Gene Hale</td>\n",
       "      <td>Corporate</td>\n",
       "      <td>United States</td>\n",
       "      <td>Richardson</td>\n",
       "      <td>Texas</td>\n",
       "      <td>75080.0</td>\n",
       "      <td>Central</td>\n",
       "      <td>FUR-FU-10003664</td>\n",
       "      <td>Furniture</td>\n",
       "      <td>Furnishings</td>\n",
       "      <td>Electrix Architect's Clamp-On Swing Arm Lamp, ...</td>\n",
       "      <td>190.920</td>\n",
       "      <td>5.0</td>\n",
       "      <td>0.6</td>\n",
       "      <td>-147.9630</td>\n",
       "    </tr>\n",
       "    <tr>\n",
       "      <th>37</th>\n",
       "      <td>CA-2015-117415</td>\n",
       "      <td>12/27/2015</td>\n",
       "      <td>12/31/2015</td>\n",
       "      <td>Standard Class</td>\n",
       "      <td>SN-20710</td>\n",
       "      <td>Steve Nguyen</td>\n",
       "      <td>Home Office</td>\n",
       "      <td>United States</td>\n",
       "      <td>Houston</td>\n",
       "      <td>Texas</td>\n",
       "      <td>77041.0</td>\n",
       "      <td>Central</td>\n",
       "      <td>OFF-EN-10002986</td>\n",
       "      <td>Office Supplies</td>\n",
       "      <td>Envelopes</td>\n",
       "      <td>#10-4 1/8\" x 9 1/2\" Premium Diagonal Seam Enve...</td>\n",
       "      <td>113.328</td>\n",
       "      <td>9.0</td>\n",
       "      <td>0.2</td>\n",
       "      <td>35.4150</td>\n",
       "    </tr>\n",
       "    <tr>\n",
       "      <th>44</th>\n",
       "      <td>CA-2016-118255</td>\n",
       "      <td>3/11/2016</td>\n",
       "      <td>3/13/2016</td>\n",
       "      <td>First Class</td>\n",
       "      <td>ON-18715</td>\n",
       "      <td>Odella Nelson</td>\n",
       "      <td>Corporate</td>\n",
       "      <td>United States</td>\n",
       "      <td>Eagan</td>\n",
       "      <td>Minnesota</td>\n",
       "      <td>55122.0</td>\n",
       "      <td>Central</td>\n",
       "      <td>TEC-AC-10000171</td>\n",
       "      <td>Technology</td>\n",
       "      <td>Accessories</td>\n",
       "      <td>Verbatim 25 GB 6x Blu-ray Single Layer Recorda...</td>\n",
       "      <td>45.980</td>\n",
       "      <td>2.0</td>\n",
       "      <td>0.0</td>\n",
       "      <td>19.7714</td>\n",
       "    </tr>\n",
       "    <tr>\n",
       "      <th>46</th>\n",
       "      <td>CA-2014-146703</td>\n",
       "      <td>10/20/2014</td>\n",
       "      <td>10/25/2014</td>\n",
       "      <td>Second Class</td>\n",
       "      <td>PO-18865</td>\n",
       "      <td>Patrick O'Donnell</td>\n",
       "      <td>Consumer</td>\n",
       "      <td>United States</td>\n",
       "      <td>Westland</td>\n",
       "      <td>Michigan</td>\n",
       "      <td>48185.0</td>\n",
       "      <td>Central</td>\n",
       "      <td>OFF-ST-10001713</td>\n",
       "      <td>Office Supplies</td>\n",
       "      <td>Storage</td>\n",
       "      <td>Gould Plastics 9-Pocket Panel Bin, 18-3/8w x 5...</td>\n",
       "      <td>211.960</td>\n",
       "      <td>4.0</td>\n",
       "      <td>0.0</td>\n",
       "      <td>8.4784</td>\n",
       "    </tr>\n",
       "  </tbody>\n",
       "</table>\n",
       "</div>"
      ],
      "text/plain": [
       "          Order ID  Order Date   Ship Date       Ship Mode Customer ID  \\\n",
       "8   CA-2014-115812    6/9/2014   6/14/2014  Standard Class    BH-11710   \n",
       "36  CA-2016-117590   12/8/2016  12/10/2016     First Class    GH-14485   \n",
       "37  CA-2015-117415  12/27/2015  12/31/2015  Standard Class    SN-20710   \n",
       "44  CA-2016-118255   3/11/2016   3/13/2016     First Class    ON-18715   \n",
       "46  CA-2014-146703  10/20/2014  10/25/2014    Second Class    PO-18865   \n",
       "\n",
       "        Customer Name      Segment        Country         City       State  \\\n",
       "8     Brosina Hoffman     Consumer  United States  Los Angeles  California   \n",
       "36          Gene Hale    Corporate  United States   Richardson       Texas   \n",
       "37       Steve Nguyen  Home Office  United States      Houston       Texas   \n",
       "44      Odella Nelson    Corporate  United States        Eagan   Minnesota   \n",
       "46  Patrick O'Donnell     Consumer  United States     Westland    Michigan   \n",
       "\n",
       "    Postal Code   Region       Product ID         Category Sub-Category  \\\n",
       "8       90032.0     West  OFF-BI-10003910  Office Supplies      Binders   \n",
       "36      75080.0  Central  FUR-FU-10003664        Furniture  Furnishings   \n",
       "37      77041.0  Central  OFF-EN-10002986  Office Supplies    Envelopes   \n",
       "44      55122.0  Central  TEC-AC-10000171       Technology  Accessories   \n",
       "46      48185.0  Central  OFF-ST-10001713  Office Supplies      Storage   \n",
       "\n",
       "                                         Product Name    Sales  Quantity  \\\n",
       "8   DXL Angle-View Binders with Locking Rings by S...   18.504       3.0   \n",
       "36  Electrix Architect's Clamp-On Swing Arm Lamp, ...  190.920       5.0   \n",
       "37  #10-4 1/8\" x 9 1/2\" Premium Diagonal Seam Enve...  113.328       9.0   \n",
       "44  Verbatim 25 GB 6x Blu-ray Single Layer Recorda...   45.980       2.0   \n",
       "46  Gould Plastics 9-Pocket Panel Bin, 18-3/8w x 5...  211.960       4.0   \n",
       "\n",
       "    Discount    Profit  \n",
       "8        0.2    5.7825  \n",
       "36       0.6 -147.9630  \n",
       "37       0.2   35.4150  \n",
       "44       0.0   19.7714  \n",
       "46       0.0    8.4784  "
      ]
     },
     "execution_count": 157,
     "metadata": {},
     "output_type": "execute_result"
    }
   ],
   "source": [
    "df.head()"
   ]
  },
  {
   "cell_type": "code",
   "execution_count": 59,
   "id": "29b8f201-355e-4c21-a769-76a96f41d5ef",
   "metadata": {},
   "outputs": [
    {
     "data": {
      "text/plain": [
       "(1211, 20)"
      ]
     },
     "execution_count": 59,
     "metadata": {},
     "output_type": "execute_result"
    }
   ],
   "source": [
    "df.shape"
   ]
  },
  {
   "cell_type": "code",
   "execution_count": 155,
   "id": "d4c714f1-fe8a-4de8-8182-6736166006ae",
   "metadata": {},
   "outputs": [
    {
     "data": {
      "text/html": [
       "<div>\n",
       "<style scoped>\n",
       "    .dataframe tbody tr th:only-of-type {\n",
       "        vertical-align: middle;\n",
       "    }\n",
       "\n",
       "    .dataframe tbody tr th {\n",
       "        vertical-align: top;\n",
       "    }\n",
       "\n",
       "    .dataframe thead th {\n",
       "        text-align: right;\n",
       "    }\n",
       "</style>\n",
       "<table border=\"1\" class=\"dataframe\">\n",
       "  <thead>\n",
       "    <tr style=\"text-align: right;\">\n",
       "      <th></th>\n",
       "      <th>Order ID</th>\n",
       "      <th>Order Date</th>\n",
       "      <th>Ship Date</th>\n",
       "      <th>Ship Mode</th>\n",
       "      <th>Customer ID</th>\n",
       "      <th>Customer Name</th>\n",
       "      <th>Segment</th>\n",
       "      <th>Country</th>\n",
       "      <th>City</th>\n",
       "      <th>State</th>\n",
       "      <th>Postal Code</th>\n",
       "      <th>Region</th>\n",
       "      <th>Product ID</th>\n",
       "      <th>Category</th>\n",
       "      <th>Sub-Category</th>\n",
       "      <th>Product Name</th>\n",
       "      <th>Sales</th>\n",
       "      <th>Quantity</th>\n",
       "      <th>Discount</th>\n",
       "      <th>Profit</th>\n",
       "    </tr>\n",
       "  </thead>\n",
       "  <tbody>\n",
       "    <tr>\n",
       "      <th>8</th>\n",
       "      <td>CA-2014-115812</td>\n",
       "      <td>6/9/2014</td>\n",
       "      <td>6/14/2014</td>\n",
       "      <td>Standard Class</td>\n",
       "      <td>BH-11710</td>\n",
       "      <td>Brosina Hoffman</td>\n",
       "      <td>Consumer</td>\n",
       "      <td>United States</td>\n",
       "      <td>Los Angeles</td>\n",
       "      <td>California</td>\n",
       "      <td>90032.0</td>\n",
       "      <td>West</td>\n",
       "      <td>OFF-BI-10003910</td>\n",
       "      <td>Office Supplies</td>\n",
       "      <td>Binders</td>\n",
       "      <td>DXL Angle-View Binders with Locking Rings by S...</td>\n",
       "      <td>18.504</td>\n",
       "      <td>3.0</td>\n",
       "      <td>0.2</td>\n",
       "      <td>5.7825</td>\n",
       "    </tr>\n",
       "    <tr>\n",
       "      <th>36</th>\n",
       "      <td>CA-2016-117590</td>\n",
       "      <td>12/8/2016</td>\n",
       "      <td>12/10/2016</td>\n",
       "      <td>First Class</td>\n",
       "      <td>GH-14485</td>\n",
       "      <td>Gene Hale</td>\n",
       "      <td>Corporate</td>\n",
       "      <td>United States</td>\n",
       "      <td>Richardson</td>\n",
       "      <td>Texas</td>\n",
       "      <td>75080.0</td>\n",
       "      <td>Central</td>\n",
       "      <td>FUR-FU-10003664</td>\n",
       "      <td>Furniture</td>\n",
       "      <td>Furnishings</td>\n",
       "      <td>Electrix Architect's Clamp-On Swing Arm Lamp, ...</td>\n",
       "      <td>190.920</td>\n",
       "      <td>5.0</td>\n",
       "      <td>0.6</td>\n",
       "      <td>-147.9630</td>\n",
       "    </tr>\n",
       "    <tr>\n",
       "      <th>37</th>\n",
       "      <td>CA-2015-117415</td>\n",
       "      <td>12/27/2015</td>\n",
       "      <td>12/31/2015</td>\n",
       "      <td>Standard Class</td>\n",
       "      <td>SN-20710</td>\n",
       "      <td>Steve Nguyen</td>\n",
       "      <td>Home Office</td>\n",
       "      <td>United States</td>\n",
       "      <td>Houston</td>\n",
       "      <td>Texas</td>\n",
       "      <td>77041.0</td>\n",
       "      <td>Central</td>\n",
       "      <td>OFF-EN-10002986</td>\n",
       "      <td>Office Supplies</td>\n",
       "      <td>Envelopes</td>\n",
       "      <td>#10-4 1/8\" x 9 1/2\" Premium Diagonal Seam Enve...</td>\n",
       "      <td>113.328</td>\n",
       "      <td>9.0</td>\n",
       "      <td>0.2</td>\n",
       "      <td>35.4150</td>\n",
       "    </tr>\n",
       "    <tr>\n",
       "      <th>44</th>\n",
       "      <td>CA-2016-118255</td>\n",
       "      <td>3/11/2016</td>\n",
       "      <td>3/13/2016</td>\n",
       "      <td>First Class</td>\n",
       "      <td>ON-18715</td>\n",
       "      <td>Odella Nelson</td>\n",
       "      <td>Corporate</td>\n",
       "      <td>United States</td>\n",
       "      <td>Eagan</td>\n",
       "      <td>Minnesota</td>\n",
       "      <td>55122.0</td>\n",
       "      <td>Central</td>\n",
       "      <td>TEC-AC-10000171</td>\n",
       "      <td>Technology</td>\n",
       "      <td>Accessories</td>\n",
       "      <td>Verbatim 25 GB 6x Blu-ray Single Layer Recorda...</td>\n",
       "      <td>45.980</td>\n",
       "      <td>2.0</td>\n",
       "      <td>0.0</td>\n",
       "      <td>19.7714</td>\n",
       "    </tr>\n",
       "    <tr>\n",
       "      <th>46</th>\n",
       "      <td>CA-2014-146703</td>\n",
       "      <td>10/20/2014</td>\n",
       "      <td>10/25/2014</td>\n",
       "      <td>Second Class</td>\n",
       "      <td>PO-18865</td>\n",
       "      <td>Patrick O'Donnell</td>\n",
       "      <td>Consumer</td>\n",
       "      <td>United States</td>\n",
       "      <td>Westland</td>\n",
       "      <td>Michigan</td>\n",
       "      <td>48185.0</td>\n",
       "      <td>Central</td>\n",
       "      <td>OFF-ST-10001713</td>\n",
       "      <td>Office Supplies</td>\n",
       "      <td>Storage</td>\n",
       "      <td>Gould Plastics 9-Pocket Panel Bin, 18-3/8w x 5...</td>\n",
       "      <td>211.960</td>\n",
       "      <td>4.0</td>\n",
       "      <td>0.0</td>\n",
       "      <td>8.4784</td>\n",
       "    </tr>\n",
       "  </tbody>\n",
       "</table>\n",
       "</div>"
      ],
      "text/plain": [
       "          Order ID  Order Date   Ship Date       Ship Mode Customer ID  \\\n",
       "8   CA-2014-115812    6/9/2014   6/14/2014  Standard Class    BH-11710   \n",
       "36  CA-2016-117590   12/8/2016  12/10/2016     First Class    GH-14485   \n",
       "37  CA-2015-117415  12/27/2015  12/31/2015  Standard Class    SN-20710   \n",
       "44  CA-2016-118255   3/11/2016   3/13/2016     First Class    ON-18715   \n",
       "46  CA-2014-146703  10/20/2014  10/25/2014    Second Class    PO-18865   \n",
       "\n",
       "        Customer Name      Segment        Country         City       State  \\\n",
       "8     Brosina Hoffman     Consumer  United States  Los Angeles  California   \n",
       "36          Gene Hale    Corporate  United States   Richardson       Texas   \n",
       "37       Steve Nguyen  Home Office  United States      Houston       Texas   \n",
       "44      Odella Nelson    Corporate  United States        Eagan   Minnesota   \n",
       "46  Patrick O'Donnell     Consumer  United States     Westland    Michigan   \n",
       "\n",
       "    Postal Code   Region       Product ID         Category Sub-Category  \\\n",
       "8       90032.0     West  OFF-BI-10003910  Office Supplies      Binders   \n",
       "36      75080.0  Central  FUR-FU-10003664        Furniture  Furnishings   \n",
       "37      77041.0  Central  OFF-EN-10002986  Office Supplies    Envelopes   \n",
       "44      55122.0  Central  TEC-AC-10000171       Technology  Accessories   \n",
       "46      48185.0  Central  OFF-ST-10001713  Office Supplies      Storage   \n",
       "\n",
       "                                         Product Name    Sales  Quantity  \\\n",
       "8   DXL Angle-View Binders with Locking Rings by S...   18.504       3.0   \n",
       "36  Electrix Architect's Clamp-On Swing Arm Lamp, ...  190.920       5.0   \n",
       "37  #10-4 1/8\" x 9 1/2\" Premium Diagonal Seam Enve...  113.328       9.0   \n",
       "44  Verbatim 25 GB 6x Blu-ray Single Layer Recorda...   45.980       2.0   \n",
       "46  Gould Plastics 9-Pocket Panel Bin, 18-3/8w x 5...  211.960       4.0   \n",
       "\n",
       "    Discount    Profit  \n",
       "8        0.2    5.7825  \n",
       "36       0.6 -147.9630  \n",
       "37       0.2   35.4150  \n",
       "44       0.0   19.7714  \n",
       "46       0.0    8.4784  "
      ]
     },
     "execution_count": 155,
     "metadata": {},
     "output_type": "execute_result"
    }
   ],
   "source": [
    "df.head()"
   ]
  },
  {
   "cell_type": "code",
   "execution_count": 61,
   "id": "8d48c950-34c9-494b-a988-068f4716702b",
   "metadata": {},
   "outputs": [
    {
     "data": {
      "text/plain": [
       "24220"
      ]
     },
     "execution_count": 61,
     "metadata": {},
     "output_type": "execute_result"
    }
   ],
   "source": [
    "df.size"
   ]
  },
  {
   "cell_type": "code",
   "execution_count": 77,
   "id": "aeaaf197-73d1-4a08-90d1-4c08e8523bab",
   "metadata": {},
   "outputs": [
    {
     "data": {
      "text/plain": [
       "City\n",
       "Jacksonville     27605.4180\n",
       "New York City    26032.5820\n",
       "Los Angeles      23191.6995\n",
       "Detroit          17140.5240\n",
       "Houston           9586.0310\n",
       "Name: Sales, dtype: float64"
      ]
     },
     "execution_count": 77,
     "metadata": {},
     "output_type": "execute_result"
    }
   ],
   "source": [
    "df.groupby('City')['Sales'].sum().sort_values(ascending=False).head()"
   ]
  },
  {
   "cell_type": "code",
   "execution_count": 78,
   "id": "8ac7eb81-3640-4422-91ae-98407de3369f",
   "metadata": {},
   "outputs": [
    {
     "data": {
      "text/plain": [
       "City\n",
       "Grove City      3.648\n",
       "Ormond Beach    2.808\n",
       "Edinburg        2.068\n",
       "Jupiter         2.064\n",
       "Auburn          1.240\n",
       "Name: Sales, dtype: float64"
      ]
     },
     "execution_count": 78,
     "metadata": {},
     "output_type": "execute_result"
    }
   ],
   "source": [
    "df.groupby('City')['Sales'].sum().sort_values(ascending=False).tail()"
   ]
  },
  {
   "cell_type": "code",
   "execution_count": 84,
   "id": "c16292f9-6655-4be6-8a03-ccaca35e3325",
   "metadata": {},
   "outputs": [
    {
     "data": {
      "text/plain": [
       "City\n",
       "Detroit          6492.2683\n",
       "New York City    6267.7400\n",
       "Los Angeles      3774.6525\n",
       "Providence       2654.6568\n",
       "Seattle          1569.2123\n",
       "Name: Profit, dtype: float64"
      ]
     },
     "execution_count": 84,
     "metadata": {},
     "output_type": "execute_result"
    }
   ],
   "source": [
    "df.groupby('City')['Profit'].sum().sort_values(ascending=False).head()"
   ]
  },
  {
   "cell_type": "code",
   "execution_count": 83,
   "id": "da62891d-dc5b-4706-9d1c-755cc95cd88c",
   "metadata": {},
   "outputs": [
    {
     "data": {
      "text/plain": [
       "City\n",
       "Burlington     -1099.2835\n",
       "Memphis        -1361.6630\n",
       "Houston        -1953.4828\n",
       "Jacksonville   -2422.1256\n",
       "Louisville     -3003.0326\n",
       "Name: Profit, dtype: float64"
      ]
     },
     "execution_count": 83,
     "metadata": {},
     "output_type": "execute_result"
    }
   ],
   "source": [
    "df.groupby('City')['Profit'].sum().sort_values(ascending=False).tail()"
   ]
  },
  {
   "cell_type": "code",
   "execution_count": 80,
   "id": "cd09dd3d-48c2-47eb-9fea-79c0d2103336",
   "metadata": {},
   "outputs": [
    {
     "data": {
      "text/plain": [
       "City\n",
       "New York City    388.0\n",
       "Los Angeles      300.0\n",
       "San Francisco    235.0\n",
       "Philadelphia     228.0\n",
       "Houston          177.0\n",
       "Name: Quantity, dtype: float64"
      ]
     },
     "execution_count": 80,
     "metadata": {},
     "output_type": "execute_result"
    }
   ],
   "source": [
    "df.groupby('City')['Quantity'].sum().sort_values(ascending=False).head()"
   ]
  },
  {
   "cell_type": "code",
   "execution_count": 81,
   "id": "6b5f29dd-8b8e-4b67-af3d-fd8f31bb0615",
   "metadata": {},
   "outputs": [
    {
     "data": {
      "text/plain": [
       "City\n",
       "Huntington Beach    1.0\n",
       "Hickory             1.0\n",
       "Edinburg            1.0\n",
       "Auburn              1.0\n",
       "Belleville          1.0\n",
       "Name: Quantity, dtype: float64"
      ]
     },
     "execution_count": 81,
     "metadata": {},
     "output_type": "execute_result"
    }
   ],
   "source": [
    "df.groupby('City')['Quantity'].sum().sort_values(ascending=False).tail()"
   ]
  },
  {
   "cell_type": "code",
   "execution_count": 89,
   "id": "07ad20c9-3f6e-47fb-bb58-39dc37c521b0",
   "metadata": {},
   "outputs": [
    {
     "data": {
      "text/plain": [
       "191.83"
      ]
     },
     "execution_count": 89,
     "metadata": {},
     "output_type": "execute_result"
    }
   ],
   "source": [
    "df['Discount'].sum()"
   ]
  },
  {
   "cell_type": "code",
   "execution_count": 91,
   "id": "a8c12da2-4b5f-42fe-8e38-9c8d4fc8f406",
   "metadata": {},
   "outputs": [
    {
     "data": {
      "text/plain": [
       "Segment\n",
       "Consumer       17880.6219\n",
       "Corporate      10443.4875\n",
       "Home Office     2498.7817\n",
       "Name: Profit, dtype: float64"
      ]
     },
     "execution_count": 91,
     "metadata": {},
     "output_type": "execute_result"
    }
   ],
   "source": [
    "df.groupby('Segment')['Profit'].sum().sort_values(ascending=False)"
   ]
  },
  {
   "cell_type": "code",
   "execution_count": 96,
   "id": "ff443132-49e5-407c-9bba-46b53e24a990",
   "metadata": {},
   "outputs": [
    {
     "data": {
      "text/plain": [
       "Ship Mode\n",
       "Standard Class    17274.1622\n",
       "Second Class       6456.7722\n",
       "First Class        6046.7742\n",
       "Same Day           1045.1825\n",
       "Name: Profit, dtype: float64"
      ]
     },
     "execution_count": 96,
     "metadata": {},
     "output_type": "execute_result"
    }
   ],
   "source": [
    "df.groupby('Ship Mode')['Profit'].sum().sort_values(ascending=False)"
   ]
  },
  {
   "cell_type": "code",
   "execution_count": 97,
   "id": "b9b011c4-e132-4c40-b27c-5a0feb2ca2ef",
   "metadata": {},
   "outputs": [
    {
     "data": {
      "text/plain": [
       "30822.8911"
      ]
     },
     "execution_count": 97,
     "metadata": {},
     "output_type": "execute_result"
    }
   ],
   "source": [
    "df['Profit'].sum()"
   ]
  },
  {
   "cell_type": "code",
   "execution_count": 99,
   "id": "018fb1c1-8af1-465f-8a4c-17fa18738cb4",
   "metadata": {},
   "outputs": [
    {
     "data": {
      "text/plain": [
       "281621.2219"
      ]
     },
     "execution_count": 99,
     "metadata": {},
     "output_type": "execute_result"
    }
   ],
   "source": [
    "df['Sales'].sum()"
   ]
  },
  {
   "cell_type": "code",
   "execution_count": 100,
   "id": "68b5320b-17e0-4044-9c83-83b8474c9a0b",
   "metadata": {},
   "outputs": [
    {
     "data": {
      "text/html": [
       "<div>\n",
       "<style scoped>\n",
       "    .dataframe tbody tr th:only-of-type {\n",
       "        vertical-align: middle;\n",
       "    }\n",
       "\n",
       "    .dataframe tbody tr th {\n",
       "        vertical-align: top;\n",
       "    }\n",
       "\n",
       "    .dataframe thead th {\n",
       "        text-align: right;\n",
       "    }\n",
       "</style>\n",
       "<table border=\"1\" class=\"dataframe\">\n",
       "  <thead>\n",
       "    <tr style=\"text-align: right;\">\n",
       "      <th></th>\n",
       "      <th>Postal Code</th>\n",
       "      <th>Sales</th>\n",
       "      <th>Quantity</th>\n",
       "      <th>Discount</th>\n",
       "      <th>Profit</th>\n",
       "    </tr>\n",
       "  </thead>\n",
       "  <tbody>\n",
       "    <tr>\n",
       "      <th>count</th>\n",
       "      <td>1211.000000</td>\n",
       "      <td>1211.000000</td>\n",
       "      <td>1211.000000</td>\n",
       "      <td>1211.000000</td>\n",
       "      <td>1211.000000</td>\n",
       "    </tr>\n",
       "    <tr>\n",
       "      <th>mean</th>\n",
       "      <td>54764.855491</td>\n",
       "      <td>232.552619</td>\n",
       "      <td>3.781173</td>\n",
       "      <td>0.158406</td>\n",
       "      <td>25.452429</td>\n",
       "    </tr>\n",
       "    <tr>\n",
       "      <th>std</th>\n",
       "      <td>31507.583299</td>\n",
       "      <td>836.526271</td>\n",
       "      <td>2.241054</td>\n",
       "      <td>0.203533</td>\n",
       "      <td>231.079898</td>\n",
       "    </tr>\n",
       "    <tr>\n",
       "      <th>min</th>\n",
       "      <td>1841.000000</td>\n",
       "      <td>0.836000</td>\n",
       "      <td>1.000000</td>\n",
       "      <td>0.000000</td>\n",
       "      <td>-3399.980000</td>\n",
       "    </tr>\n",
       "    <tr>\n",
       "      <th>25%</th>\n",
       "      <td>25078.000000</td>\n",
       "      <td>17.212000</td>\n",
       "      <td>2.000000</td>\n",
       "      <td>0.000000</td>\n",
       "      <td>1.798300</td>\n",
       "    </tr>\n",
       "    <tr>\n",
       "      <th>50%</th>\n",
       "      <td>54703.000000</td>\n",
       "      <td>52.590000</td>\n",
       "      <td>3.000000</td>\n",
       "      <td>0.200000</td>\n",
       "      <td>8.790600</td>\n",
       "    </tr>\n",
       "    <tr>\n",
       "      <th>75%</th>\n",
       "      <td>87753.000000</td>\n",
       "      <td>199.205000</td>\n",
       "      <td>5.000000</td>\n",
       "      <td>0.200000</td>\n",
       "      <td>27.220500</td>\n",
       "    </tr>\n",
       "    <tr>\n",
       "      <th>max</th>\n",
       "      <td>99301.000000</td>\n",
       "      <td>22638.480000</td>\n",
       "      <td>14.000000</td>\n",
       "      <td>0.800000</td>\n",
       "      <td>4946.370000</td>\n",
       "    </tr>\n",
       "  </tbody>\n",
       "</table>\n",
       "</div>"
      ],
      "text/plain": [
       "        Postal Code         Sales     Quantity     Discount       Profit\n",
       "count   1211.000000   1211.000000  1211.000000  1211.000000  1211.000000\n",
       "mean   54764.855491    232.552619     3.781173     0.158406    25.452429\n",
       "std    31507.583299    836.526271     2.241054     0.203533   231.079898\n",
       "min     1841.000000      0.836000     1.000000     0.000000 -3399.980000\n",
       "25%    25078.000000     17.212000     2.000000     0.000000     1.798300\n",
       "50%    54703.000000     52.590000     3.000000     0.200000     8.790600\n",
       "75%    87753.000000    199.205000     5.000000     0.200000    27.220500\n",
       "max    99301.000000  22638.480000    14.000000     0.800000  4946.370000"
      ]
     },
     "execution_count": 100,
     "metadata": {},
     "output_type": "execute_result"
    }
   ],
   "source": [
    "df.describe()"
   ]
  },
  {
   "cell_type": "code",
   "execution_count": 114,
   "id": "0f20d92b-9c4c-424d-9637-13244933c432",
   "metadata": {},
   "outputs": [
    {
     "data": {
      "text/plain": [
       "State\n",
       "California      8202.6367\n",
       "New York        7583.4676\n",
       "Michigan        7037.2640\n",
       "Rhode Island    2770.3568\n",
       "Washington      2199.8752\n",
       "Name: Profit, dtype: float64"
      ]
     },
     "execution_count": 114,
     "metadata": {},
     "output_type": "execute_result"
    }
   ],
   "source": [
    "df.groupby('State')['Profit'].sum().sort_values(ascending=False).head()"
   ]
  },
  {
   "cell_type": "code",
   "execution_count": 115,
   "id": "5a7cbf33-a7d8-4aa1-bbc6-82958a623c1e",
   "metadata": {},
   "outputs": [
    {
     "data": {
      "text/plain": [
       "State\n",
       "Illinois     -991.7624\n",
       "Florida     -2138.5161\n",
       "Tennessee   -2284.6407\n",
       "Texas       -3223.8528\n",
       "Colorado    -3252.9975\n",
       "Name: Profit, dtype: float64"
      ]
     },
     "execution_count": 115,
     "metadata": {},
     "output_type": "execute_result"
    }
   ],
   "source": [
    "df.groupby('State')['Profit'].sum().sort_values(ascending=False).tail()"
   ]
  },
  {
   "cell_type": "code",
   "execution_count": 124,
   "id": "f39dd7bb-929f-4eab-81eb-4bdf49df6b9f",
   "metadata": {},
   "outputs": [
    {
     "data": {
      "text/plain": [
       "<Axes: xlabel='Category', ylabel='Profit'>"
      ]
     },
     "execution_count": 124,
     "metadata": {},
     "output_type": "execute_result"
    },
    {
     "data": {
      "image/png": "[encoded data removed]",
      "text/plain": [
       "<Figure size 640x480 with 1 Axes>"
      ]
     },
     "metadata": {},
     "output_type": "display_data"
    }
   ],
   "source": [
    "sns.barplot(x='Category',y='Profit',data=df,estimator='sum')"
   ]
  },
  {
   "cell_type": "code",
   "execution_count": 123,
   "id": "036dc93b-f4d6-466a-b763-9334f83e3af1",
   "metadata": {},
   "outputs": [
    {
     "data": {
      "text/plain": [
       "<Axes: xlabel='Category', ylabel='Sales'>"
      ]
     },
     "execution_count": 123,
     "metadata": {},
     "output_type": "execute_result"
    },
    {
     "data": {
      "image/png": "[encoded data removed]",
      "text/plain": [
       "<Figure size 640x480 with 1 Axes>"
      ]
     },
     "metadata": {},
     "output_type": "display_data"
    }
   ],
   "source": [
    "sns.barplot(x='Category',y='Sales',data=df,estimator='sum')"
   ]
  },
  {
   "cell_type": "code",
   "execution_count": 122,
   "id": "025d7a9c-e64f-4bdd-a00a-39b980188611",
   "metadata": {},
   "outputs": [
    {
     "data": {
      "text/plain": [
       "<Axes: xlabel='Ship Mode', ylabel='Profit'>"
      ]
     },
     "execution_count": 122,
     "metadata": {},
     "output_type": "execute_result"
    },
    {
     "data": {
      "image/png": "[encoded data removed]",
      "text/plain": [
       "<Figure size 640x480 with 1 Axes>"
      ]
     },
     "metadata": {},
     "output_type": "display_data"
    }
   ],
   "source": [
    "sns.barplot(x='Ship Mode',y='Profit',data=df,estimator='sum')"
   ]
  },
  {
   "cell_type": "code",
   "execution_count": 147,
   "id": "b74c3ad7-b6ef-4b2b-85e9-007b23139c21",
   "metadata": {},
   "outputs": [
    {
     "data": {
      "text/plain": [
       "<Axes: xlabel='Region', ylabel='Profit'>"
      ]
     },
     "execution_count": 147,
     "metadata": {},
     "output_type": "execute_result"
    },
    {
     "data": {
      "image/png": "[encoded data removed]",
      "text/plain": [
       "<Figure size 640x480 with 1 Axes>"
      ]
     },
     "metadata": {},
     "output_type": "display_data"
    }
   ],
   "source": [
    "sns.barplot(x='Region',y='Profit',data=df,estimator='sum')"
   ]
  },
  {
   "cell_type": "code",
   "execution_count": 149,
   "id": "285fe0bf-c523-4cb5-b990-a5fa549fb780",
   "metadata": {},
   "outputs": [
    {
     "data": {
      "text/plain": [
       "<Axes: xlabel='Region', ylabel='Quantity'>"
      ]
     },
     "execution_count": 149,
     "metadata": {},
     "output_type": "execute_result"
    },
    {
     "data": {
      "image/png": "[encoded data removed]",
      "text/plain": [
       "<Figure size 640x480 with 1 Axes>"
      ]
     },
     "metadata": {},
     "output_type": "display_data"
    }
   ],
   "source": [
    "sns.barplot(x='Region',y='Quantity',data=df,estimator='sum')"
   ]
  },
  {
   "cell_type": "code",
   "execution_count": 158,
   "id": "c3578729-45e3-426e-a0e1-1e046ccb8b24",
   "metadata": {},
   "outputs": [
    {
     "data": {
      "text/plain": [
       "857"
      ]
     },
     "execution_count": 158,
     "metadata": {},
     "output_type": "execute_result"
    }
   ],
   "source": [
    "df['Product Name'].nunique()"
   ]
  },
  {
   "cell_type": "code",
   "execution_count": 174,
   "id": "bbc1a3a8-c06b-4c56-a97a-e21ca4b63637",
   "metadata": {},
   "outputs": [
    {
     "data": {
      "text/plain": [
       "<Axes: xlabel='Profit', ylabel='Sales'>"
      ]
     },
     "execution_count": 174,
     "metadata": {},
     "output_type": "execute_result"
    },
    {
     "data": {
      "image/png": "[encoded data removed]",
      "text/plain": [
       "<Figure size 640x480 with 1 Axes>"
      ]
     },
     "metadata": {},
     "output_type": "display_data"
    }
   ],
   "source": [
    "sns.scatterplot(x='Profit',y='Sales',data=df)"
   ]
  },
  {
   "cell_type": "code",
   "execution_count": 161,
   "id": "6582d268-5582-4a4c-84f6-a07f24f83fc8",
   "metadata": {},
   "outputs": [],
   "source": [
    "# Convert the Order Date or Ship Date column to datetime format\n",
    "df['Order Date'] = pd.to_datetime(df['Order Date'])\n",
    "df['Ship Date'] = pd.to_datetime(df['Ship Date'])"
   ]
  },
  {
   "cell_type": "code",
   "execution_count": 163,
   "id": "e53001b6-d02e-43a3-a563-523fbbd59a2e",
   "metadata": {},
   "outputs": [],
   "source": [
    "# Group the data by month and calculate total sales and profit\n",
    "sales_by_month = df.groupby(pd.Grouper(key='Order Date', freq='M'))['Sales'].sum().reset_index()\n",
    "profit_by_month = df.groupby(pd.Grouper(key='Order Date', freq='M'))['Profit'].sum().reset_index()"
   ]
  },
  {
   "cell_type": "code",
   "execution_count": 172,
   "id": "341ed71a-49fd-41ed-8f74-d9295e188287",
   "metadata": {},
   "outputs": [
    {
     "data": {
      "text/plain": [
       "<matplotlib.legend.Legend at 0x1efb9fb1890>"
      ]
     },
     "execution_count": 172,
     "metadata": {},
     "output_type": "execute_result"
    },
    {
     "data": {
      "image/png": "[encoded data removed]",
      "text/plain": [
       "<Figure size 1200x600 with 2 Axes>"
      ]
     },
     "metadata": {},
     "output_type": "display_data"
    }
   ],
   "source": [
    "# Create a line chart for sales and profit trends\n",
    "fig, ax1 = plt.subplots(figsize=(12, 6))\n",
    "ax1.plot(sales_by_month['Order Date'], sales_by_month['Sales'], color='blue', label='Sales',marker='o')\n",
    "ax2 = ax1.twinx()\n",
    "ax2.plot(profit_by_month['Order Date'], profit_by_month['Profit'], color='green', label='Profit',marker='*')\n",
    "\n",
    "# Add labels and title\n",
    "ax1.set_xlabel('Month')\n",
    "ax1.set_ylabel('Sales', color='blue')\n",
    "ax2.set_ylabel('Profit', color='green')\n",
    "plt.title('Sales and Profit Trends by Month')\n",
    "plt.legend()"
   ]
  },
  {
   "cell_type": "code",
   "execution_count": null,
   "id": "06baf85f-b806-4fe3-b2b5-8648c24ccd62",
   "metadata": {},
   "outputs": [],
   "source": []
  },
  {
   "cell_type": "code",
   "execution_count": null,
   "id": "24609707-2acf-4344-9c9c-90f7cd5f1f76",
   "metadata": {},
   "outputs": [],
   "source": []
  }
 ],
 "metadata": {
  "kernelspec": {
   "display_name": "Python 3 (ipykernel)",
   "language": "python",
   "name": "python3"
  },
  "language_info": {
   "codemirror_mode": {
    "name": "ipython",
    "version": 3
   },
   "file_extension": ".py",
   "mimetype": "text/x-python",
   "name": "python",
   "nbconvert_exporter": "python",
   "pygments_lexer": "ipython3",
   "version": "3.11.7"
  }
 },
 "nbformat": 4,
 "nbformat_minor": 5
}
